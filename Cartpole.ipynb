{
  "cells": [
    {
      "cell_type": "markdown",
      "metadata": {
        "id": "0ZWsnEMjaMR0"
      },
      "source": [
        "**Welcome to the first programming assignment for CS 443 RL!**"
      ]
    },
    {
      "cell_type": "markdown",
      "metadata": {
        "id": "WfPe-_9iawIJ"
      },
      "source": [
        "This assignment will get you familiar with the OpenAI gym environment and estimation via sampling trajectories.\n",
        "\n",
        "**For submission: Please convert the iPython notebook (containing both outputs and your code) into pdf, and append the pdf to that of your written work.**"
      ]
    },
    {
      "cell_type": "code",
      "execution_count": 68,
      "metadata": {
        "colab": {
          "base_uri": "https://localhost:8080/"
        },
        "id": "VEvS3FEgWxc6",
        "outputId": "22761fb3-1345-48f6-9bd9-627c6221aa27"
      },
      "outputs": [
        {
          "output_type": "stream",
          "name": "stdout",
          "text": [
            "0.25.2\n"
          ]
        }
      ],
      "source": [
        "import gym\n",
        "print(gym.__version__) # should be 0.25.2"
      ]
    },
    {
      "cell_type": "markdown",
      "metadata": {
        "id": "UMgTMDy6OS2e"
      },
      "source": [
        "We will be playing on the Cartpole environment. As the title suggests, the task in this environment is to balance a pole on top of a cart. The official description of the environment from the Gym website (https://www.gymlibrary.dev/) is:\n",
        "\n",
        "> This environment corresponds to the version of the cart-pole problem described by Barto, Sutton, and Anderson in \"Neuronlike Adaptive Elements That Can Solve Difficult Learning Control Problem\". A pole is attached by an un-actuated joint to a cart, which moves along a frictionless track. The pendulum is placed upright on the cart and the goal is to balance the pole by applying forces in the left and right direction on the cart.\n",
        "\n",
        "The environment is loaded as follows:"
      ]
    },
    {
      "cell_type": "code",
      "execution_count": 69,
      "metadata": {
        "colab": {
          "base_uri": "https://localhost:8080/"
        },
        "id": "0E9zqEYpOd6b",
        "outputId": "1f4a829a-0f15-42fa-e8a3-1951d73f2dd7"
      },
      "outputs": [
        {
          "output_type": "stream",
          "name": "stdout",
          "text": [
            "Discrete(2)\n",
            "Box([-4.8000002e+00 -3.4028235e+38 -4.1887903e-01 -3.4028235e+38], [4.8000002e+00 3.4028235e+38 4.1887903e-01 3.4028235e+38], (4,), float32)\n"
          ]
        },
        {
          "output_type": "stream",
          "name": "stderr",
          "text": [
            "/usr/local/lib/python3.10/dist-packages/gym/core.py:317: DeprecationWarning: \u001b[33mWARN: Initializing wrapper in old step API which returns one bool instead of two. It is recommended to set `new_step_api=True` to use new step API. This will be the default behaviour in future.\u001b[0m\n",
            "  deprecation(\n",
            "/usr/local/lib/python3.10/dist-packages/gym/wrappers/step_api_compatibility.py:39: DeprecationWarning: \u001b[33mWARN: Initializing environment in old step API which returns one bool instead of two. It is recommended to set `new_step_api=True` to use new step API. This will be the default behaviour in future.\u001b[0m\n",
            "  deprecation(\n"
          ]
        }
      ],
      "source": [
        "env = gym.make('CartPole-v1') # ignore the warning\n",
        "env.reset() # must reset the environment before interacting with it\n",
        "print (env.action_space) # show the action space, which has 2 actions\n",
        "print (env.observation_space) # show the state (observation) space, which is a\n",
        "                              # 4-dimensional vector with components of\n",
        "                              # [position, velocity,\n",
        "                              #  pole angle, pole velocity at tip]"
      ]
    },
    {
      "cell_type": "markdown",
      "metadata": {
        "id": "_p-aroLbSNHc"
      },
      "source": [
        "More information can be found on the following page: https://www.gymlibrary.dev/environments/classic_control/cart_pole/\n",
        "\n",
        "Here is the policy that you will be using (which just acts randomly with a uniform distribution)."
      ]
    },
    {
      "cell_type": "code",
      "execution_count": 70,
      "metadata": {
        "id": "_Tj6_VrSSW_0",
        "colab": {
          "base_uri": "https://localhost:8080/"
        },
        "outputId": "0ce7f941-6f6e-4a84-d366-703d52d27ea8"
      },
      "outputs": [
        {
          "output_type": "stream",
          "name": "stdout",
          "text": [
            "[-0.04481104  0.04328649 -0.01001667  0.04731801]\n",
            "0\n"
          ]
        }
      ],
      "source": [
        "def policy_unif(s):\n",
        "  a = env.action_space.sample()\n",
        "  return a\n",
        "s0 = env.reset()\n",
        "print(s0)\n",
        "print(policy_unif(s0))"
      ]
    },
    {
      "cell_type": "markdown",
      "metadata": {
        "id": "9gGjIQIkWKEw"
      },
      "source": [
        " You can interact with the environment with the `env.step()` function, as follows:"
      ]
    },
    {
      "cell_type": "code",
      "execution_count": 71,
      "metadata": {
        "colab": {
          "base_uri": "https://localhost:8080/"
        },
        "id": "GFN1pJUaWOqm",
        "outputId": "15aa1762-636c-4989-ab6c-2183967adb6e"
      },
      "outputs": [
        {
          "output_type": "stream",
          "name": "stdout",
          "text": [
            "[-0.04394531  0.23855063 -0.00907031 -0.24850836]\n",
            "1.0\n",
            "False\n",
            "{}\n"
          ]
        }
      ],
      "source": [
        "observation, reward, done, info = env.step(env.action_space.sample())\n",
        "print(observation)  # the state that you transition to after taking the action\n",
        "print(reward)       # immediate reward\n",
        "print(done)         # a boolean flag of whether the episode has terminated\n",
        "print(info)         # not useful for this assignment"
      ]
    },
    {
      "cell_type": "markdown",
      "metadata": {
        "id": "eg5RqiBMQKKw"
      },
      "source": [
        "**Q1**: Write a method called `collect_trajectory(policy)` which collects one trajectory for an episode in the Cartpole environment. Your method should take as input the policy (`policy`) and output a list of the form $(s_0, a_0, r_0, s_1, a_1, r_1, \\dots, s_T, a_T, r_T)$, where $T$ is the length of the episode."
      ]
    },
    {
      "cell_type": "code",
      "execution_count": 72,
      "metadata": {
        "id": "Ob_sqnGGQlJC",
        "colab": {
          "base_uri": "https://localhost:8080/"
        },
        "outputId": "1a39fe26-6489-4cb4-b61f-414c5abc99a8"
      },
      "outputs": [
        {
          "output_type": "stream",
          "name": "stdout",
          "text": [
            "[array([-0.0460774 ,  0.00483577,  0.01353033,  0.02554428], dtype=float32), 1, 1.0, array([-0.04598068,  0.1997611 ,  0.01404121, -0.26283914], dtype=float32), 1, 1.0, array([-0.04198546,  0.39467984,  0.00878443, -0.55106044], dtype=float32), 1, 1.0, array([-0.03409187,  0.58967733, -0.00223678, -0.8409628 ], dtype=float32), 0, 1.0, array([-0.02229832,  0.39458597, -0.01905604, -0.5489841 ], dtype=float32), 1, 1.0, array([-0.0144066 ,  0.58997035, -0.03003572, -0.84760964], dtype=float32), 1, 1.0, array([-0.00260719,  0.78548884, -0.04698791, -1.1495843 ], dtype=float32), 1, 1.0, array([ 0.01310258,  0.9811915 , -0.0699796 , -1.4566237 ], dtype=float32), 1, 1.0, array([ 0.03272641,  1.177099  , -0.09911207, -1.7703228 ], dtype=float32), 1, 1.0, array([ 0.05626839,  1.37319   , -0.13451852, -2.092107  ], dtype=float32), 1, 1.0, array([ 0.0837322 ,  1.5693871 , -0.17636067, -2.4231734 ], dtype=float32), 0, 1.0]\n"
          ]
        }
      ],
      "source": [
        "# generate a trajectory in the environment\n",
        "# use env.step to roll out a trajectory until the episode terminates\n",
        "# output a list of the form [s0, a0, r0, s1, a1, ..., sT, aT, rT]\n",
        "# (s_{T+1} is the terminal state)\n",
        "def collect_trajectory(policy):\n",
        "  s0 = env.reset() #reset the environment\n",
        "  # YOUR CODE HERE\n",
        "  trajectory = []       # list to return\n",
        "  done = False\n",
        "  state = s0\n",
        "  while done == False:\n",
        "    trajectory.append(state)\n",
        "    action = policy(s0)\n",
        "    state, reward, done, info = env.step(action)\n",
        "    trajectory.append(action)\n",
        "    trajectory.append(reward)\n",
        "  return trajectory\n",
        "traj = collect_trajectory(policy_unif)\n",
        "print(collect_trajectory(policy_unif))"
      ]
    },
    {
      "cell_type": "markdown",
      "metadata": {
        "id": "wwwP8NzVRYL6"
      },
      "source": [
        "**Q2**: Write a method called `compute_return(traj, gamma)`, which takes as input one trajectory (`traj`) of the form given by `collect_trajectory` in Q1 and a discount factor (`gamma`), and calculates the random return of the trajectory, i.e., $r_0 + \\gamma r_1 + \\gamma^2 r_2 + \\dots + \\gamma^T r_T$."
      ]
    },
    {
      "cell_type": "code",
      "execution_count": 73,
      "metadata": {
        "id": "3DBJBZhqRhwa",
        "colab": {
          "base_uri": "https://localhost:8080/"
        },
        "outputId": "69340947-c1c6-4051-874a-774a622c540b"
      },
      "outputs": [
        {
          "output_type": "stream",
          "name": "stdout",
          "text": [
            "1.9999980926513672\n"
          ]
        }
      ],
      "source": [
        "def compute_return(traj, gamma):\n",
        "  # YOUR CODE HERE\n",
        "  idx = 2       # r0 index in traj\n",
        "  try:\n",
        "    result = traj[idx]      # total reward to return\n",
        "    idx += 3\n",
        "  except:\n",
        "    result = 0\n",
        "    return result\n",
        "  factor = gamma\n",
        "  while idx < len(traj):\n",
        "    result += traj[idx] * factor\n",
        "    idx += 3\n",
        "    factor *= gamma\n",
        "\n",
        "  return result\n",
        "print(compute_return(traj, 0.5))"
      ]
    },
    {
      "cell_type": "markdown",
      "metadata": {
        "id": "Jw1Yvbw05uPP"
      },
      "source": [
        "**Q3**: Collect $150$ trajectories starting from the initial states given by `env.reset()` and compute the random return of each trajectory, using the given policy and $\\gamma = 0.99$.\n",
        "\n",
        "1.   Plot a histogram of these returns.\n",
        "2.   Estimate the mean of these returns, and give your result in the form of $X \\pm Y$, where $X$ is the estimated mean and $Y$ is twice the standard error of your mean estimate, which corresponds to a $95\\%$ confidence interval.\n",
        "\n",
        "Remark: The mean is also an estimate of the value function of $\\pi$ for the initial state, often referred to as a \"Monte-Carlo\" estimation."
      ]
    },
    {
      "cell_type": "code",
      "execution_count": 74,
      "metadata": {
        "id": "sYNjz6fS9Vaj",
        "colab": {
          "base_uri": "https://localhost:8080/",
          "height": 447
        },
        "outputId": "cd69e316-2cf6-496e-818d-370e6d8f5efe"
      },
      "outputs": [
        {
          "output_type": "display_data",
          "data": {
            "text/plain": [
              "<Figure size 640x480 with 1 Axes>"
            ],
            "image/png": "[encoded data removed]"
          },
          "metadata": {}
        },
        {
          "output_type": "stream",
          "name": "stdout",
          "text": [
            "19.484646370979856 +- 15.454879075665907\n"
          ]
        }
      ],
      "source": [
        "# useful libraries\n",
        "import matplotlib.pyplot as plt\n",
        "import numpy as np\n",
        "\n",
        "# use plt.hist to create histogram plot\n",
        "# YOUR CODE HERE\n",
        "num = 150\n",
        "trajs = []\n",
        "## fetch num of trajectories\n",
        "for idx in range(num):\n",
        "  trajs.append(collect_trajectory(policy_unif))\n",
        "## compute returns\n",
        "returns = []\n",
        "gamma = 0.99\n",
        "for idx in range(num):\n",
        "  returns.append(compute_return(trajs[idx], gamma))\n",
        "\n",
        "## output 1: histogram\n",
        "plt.hist(returns)\n",
        "plt.show()\n",
        "\n",
        "## output 2: mean of returns\n",
        "mean = sum(returns) / len(returns)\n",
        "std_err2 = ((sum([((x - mean) ** 2) for x in returns]) / len(returns))) ** 0.5 * 2\n",
        "\n",
        "print(\"{} +- {}\".format(mean, std_err2))\n"
      ]
    },
    {
      "cell_type": "markdown",
      "metadata": {
        "id": "FBFD-MBhemrb"
      },
      "source": [
        "**Q4 (Optional)**: A linear policy has parameters $\\beta_1 \\in \\mathbb{R}^4$ and $\\beta_0 \\in \\mathbb{R}$. It computes $\\beta_1^\\top x - \\beta_0$, chooses action $+1$ if $\\beta_1^\\top x - \\beta_0 \\geq 0$, and chooses action $0$ otherwise.\n",
        "\n",
        "Write a random search learner. Randomly generate $10$ linear policies, evaluate them by sampling trajectories, and output the policy with the highest return.\n",
        "\n"
      ]
    },
    {
      "cell_type": "code",
      "execution_count": 75,
      "metadata": {
        "id": "sDCNWfLncTdy",
        "colab": {
          "base_uri": "https://localhost:8080/"
        },
        "outputId": "95d37dd3-f5d0-42ab-baa1-6dc802c536cb"
      },
      "outputs": [
        {
          "output_type": "stream",
          "name": "stdout",
          "text": [
            "The highest return is 26.029962661171943.\n",
            "The corresponding linear policy is beta1 = [[-13.77163648 -44.19732374 -39.45709654 -21.04647266]], beta0 = [1.71331307]\n"
          ]
        }
      ],
      "source": [
        "import numpy as np\n",
        "\n",
        "policy_num = 10\n",
        "param_record = []\n",
        "\n",
        "### Step 1: define linear policy\n",
        "def policy_linear(s):\n",
        "  ## randomly generate parameter pairs\n",
        "  policy = []\n",
        "  beta1 = np.random.rand(1,4)*100-50\n",
        "  beta0 = np.random.rand(1)*4-2\n",
        "  policy.append(beta1)\n",
        "  policy.append(beta0)\n",
        "  param_record.append(policy)\n",
        "  np.reshape(s,[-1,1])\n",
        "  judge = beta1 @ s + beta0\n",
        "  if judge >= 0:\n",
        "    a = 1\n",
        "  else:\n",
        "    a = 0\n",
        "  return a\n",
        "\n",
        "### Step 2: sampling trajectories\n",
        "trajs = []\n",
        "## fetch num of trajectories\n",
        "for idx in range(policy_num):\n",
        "  trajs.append(collect_trajectory(policy_linear))\n",
        "## compute returns\n",
        "returns = []\n",
        "gamma = 0.99\n",
        "for idx in range(policy_num):\n",
        "  returns.append(compute_return(trajs[idx], gamma))\n",
        "\n",
        "## Step 3: find highest return\n",
        "max = 0\n",
        "max_idx = 0\n",
        "for i in range(policy_num):\n",
        "  if returns[i] > max:\n",
        "    max = returns[i]\n",
        "    max_idx = i\n",
        "print(\"The highest return is {}.\".format(max))\n",
        "print(\"The corresponding linear policy is beta1 = {}, beta0 = {}\".format(param_record[max_idx][0], param_record[max_idx][1]))\n"
      ]
    },
    {
      "cell_type": "markdown",
      "metadata": {
        "id": "ZoYJ55zCaPVA"
      },
      "source": [
        "**Instructions on converting iPython notebook to pdf**\n",
        "\n",
        "Please do not directly print the iPython notebook to pdf because it may have some issue if your code or text are too long."
      ]
    },
    {
      "cell_type": "markdown",
      "metadata": {
        "id": "ONx9vjT8addX"
      },
      "source": [
        "Option 1: if you run the code locally with Jupyter Notebook or Jupyter Lab, there is an option to save to pdf from the menu."
      ]
    },
    {
      "cell_type": "markdown",
      "metadata": {
        "id": "HOlgK0wXaVil"
      },
      "source": [
        "Option 2: if you run the code on Google colab. (You can delete the block below if you run code locally.)"
      ]
    },
    {
      "cell_type": "code",
      "execution_count": 76,
      "metadata": {
        "id": "Qb8YPaYIW8k1"
      },
      "outputs": [],
      "source": [
        "%%capture\n",
        "# Here we use a script to generate pdf and save it to google drive.\n",
        "\n",
        "# After executing this cell, you will be asked to link to your GoogleDrive account.\n",
        "# Then, the pdf will be generated and saved to your GoogleDrive account and you need to go there to download;\n",
        "\n",
        "from google.colab import drive\n",
        "drive.mount('/content/drive')\n",
        "# install tex; first run may take several minutes\n",
        "! apt-get install texlive-xetex\n",
        "# file path and save location below are default; please change if they do not match yours\n",
        "! jupyter nbconvert --output-dir='/content/drive/MyDrive/' '/content/drive/MyDrive/Colab Notebooks/CS443RL_Assignment1.ipynb' --to pdf"
      ]
    },
    {
      "cell_type": "markdown",
      "metadata": {
        "id": "ZkgV3wFWcI2y"
      },
      "source": [
        "Also feel free to use other methods as long as the converted file visually looks good."
      ]
    }
  ],
  "metadata": {
    "colab": {
      "provenance": []
    },
    "kernelspec": {
      "display_name": "Python 3 (ipykernel)",
      "language": "python",
      "name": "python3"
    },
    "language_info": {
      "codemirror_mode": {
        "name": "ipython",
        "version": 3
      },
      "file_extension": ".py",
      "mimetype": "text/x-python",
      "name": "python",
      "nbconvert_exporter": "python",
      "pygments_lexer": "ipython3",
      "version": "3.8.16"
    }
  },
  "nbformat": 4,
  "nbformat_minor": 0
}