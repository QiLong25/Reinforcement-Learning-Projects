{
  "cells": [
    {
      "cell_type": "markdown",
      "metadata": {
        "id": "0ZWsnEMjaMR0"
      },
      "source": [
        "**Welcome to the second programming assignment for CS 443 RL!**"
      ]
    },
    {
      "cell_type": "markdown",
      "metadata": {
        "id": "WfPe-_9iawIJ"
      },
      "source": [
        "This assignment will have you implementing tabular model-based methods (value iteration, policy iteration, policy evaluation)."
      ]
    },
    {
      "cell_type": "code",
      "execution_count": null,
      "metadata": {
        "id": "VEvS3FEgWxc6"
      },
      "outputs": [],
      "source": [
        "import gym\n",
        "import numpy as np"
      ]
    },
    {
      "cell_type": "markdown",
      "metadata": {
        "id": "UMgTMDy6OS2e"
      },
      "source": [
        "We will be playing on the\n",
        "Taxi environment. The environment is loaded as follows:"
      ]
    },
    {
      "cell_type": "code",
      "execution_count": null,
      "metadata": {
        "id": "0E9zqEYpOd6b",
        "colab": {
          "base_uri": "https://localhost:8080/"
        },
        "outputId": "99d322ee-e6ab-4f54-a50f-79f178fb138e"
      },
      "outputs": [
        {
          "output_type": "stream",
          "name": "stderr",
          "text": [
            "/usr/local/lib/python3.10/dist-packages/gym/core.py:317: DeprecationWarning: \u001b[33mWARN: Initializing wrapper in old step API which returns one bool instead of two. It is recommended to set `new_step_api=True` to use new step API. This will be the default behaviour in future.\u001b[0m\n",
            "  deprecation(\n",
            "/usr/local/lib/python3.10/dist-packages/gym/wrappers/step_api_compatibility.py:39: DeprecationWarning: \u001b[33mWARN: Initializing environment in old step API which returns one bool instead of two. It is recommended to set `new_step_api=True` to use new step API. This will be the default behaviour in future.\u001b[0m\n",
            "  deprecation(\n"
          ]
        }
      ],
      "source": [
        "taxi_env = gym.make('Taxi-v3')\n",
        "starting_state = taxi_env.reset() #must reset the environment before interacting with it"
      ]
    },
    {
      "cell_type": "markdown",
      "metadata": {
        "id": "zSvdrsgSH6eg"
      },
      "source": [
        "The Taxi domain was introduced in the paper \"The MAXQ Method for Hierarchical Reinforcement Learning\" by Thomas G. Dietterich (https://pdfs.semanticscholar.org/fdc7/c1e10d935e4b648a32938f13368906864ab3.pdf) in ICML 1998.\n",
        "\n",
        "The version that we will be playing is slightly simpler than the version considered in that paper. Here is a description from the open source code for gym:\n",
        "\n",
        "> Description:\n",
        "    There are four designated locations in the grid world indicated by R(ed), G(reen), Y(ellow), and B(lue). When the episode starts, the taxi starts off at a random square and the passenger is at a random location. The taxi drives to the passenger's location, picks up the passenger, drives to the passenger's destination (another one of the four specified locations), and then drops off the passenger. Once the passenger is dropped off, the episode ends.\n",
        "\n",
        "> Observations:\n",
        "    There are 500 discrete states since there are 25 taxi positions, 5 possible locations of the passenger (including the case when the passenger is in the taxi), and 4 destination locations.\n",
        "\n",
        "    \n",
        "    Passenger locations:\n",
        "    - 0: R(ed)\n",
        "    - 1: G(reen)\n",
        "    - 2: Y(ellow)\n",
        "    - 3: B(lue)\n",
        "    - 4: in taxi\n",
        "\n",
        "    Destinations:\n",
        "    - 0: R(ed)\n",
        "    - 1: G(reen)\n",
        "    - 2: Y(ellow)\n",
        "    - 3: B(lue)\n",
        "\n",
        "    Actions:\n",
        "    There are 6 discrete deterministic actions:\n",
        "    - 0: move south\n",
        "    - 1: move north\n",
        "    - 2: move east\n",
        "    - 3: move west\n",
        "    - 4: pickup passenger\n",
        "    - 5: drop off passenger\n",
        "\n",
        "    Rewards:\n",
        "    There is a default per-step reward of -1,\n",
        "    except for delivering the passenger, which is +20,\n",
        "    or executing \"pickup\" and \"drop-off\" actions illegally, which is -10.\n",
        "\n",
        "    Rendering:\n",
        "    - blue: passenger\n",
        "    - magenta: destination\n",
        "    - yellow: empty taxi\n",
        "    - green: full taxi\n",
        "    - other letters (R, G, Y and B): locations for passengers and destinations\n",
        "    \n",
        "    state space is represented by:\n",
        "        (taxi_row, taxi_col, passenger_location, destination)"
      ]
    },
    {
      "cell_type": "markdown",
      "metadata": {
        "id": "bbcd1qAiJMrw"
      },
      "source": [
        "In order to apply the model-based method in the episodic setting, we add a terminal state (the taxi drops off the passenger at the destination) in the MDP. So we end up with 501 states in total. We provide you with an MDP class for modelling the environment. You can directly use it for all the following questions."
      ]
    },
    {
      "cell_type": "code",
      "execution_count": null,
      "metadata": {
        "id": "Zya3GlL0Jgjy"
      },
      "outputs": [],
      "source": [
        "class MDP:\n",
        "  def __init__(self,env):\n",
        "    self.num_states = env.observation_space.n + 1\n",
        "    self.num_actions = env.action_space.n\n",
        "    self.starting_state = starting_state\n",
        "    self.action_to_plot = 1\n",
        "\n",
        "    self.R = np.zeros([self.num_states, self.num_actions])\n",
        "    self.T = np.zeros([self.num_states, self.num_actions, self.num_states])\n",
        "    self.gamma = 0.99\n",
        "\n",
        "    for state in range(self.num_states - 1):\n",
        "      for action in range(self.num_actions):\n",
        "          for transition in env.env.P[state][action]:\n",
        "              probability, next_state, reward, done = transition\n",
        "              self.R[state, action] = reward\n",
        "              self.T[state, action, next_state] = probability\n",
        "\n",
        "    for action in range(self.num_actions):\n",
        "      self.T[-1, action, -1] = 1\n",
        "\n",
        "    for state in range(self.num_states - 1):\n",
        "      state_decode = list(env.env.decode(state))\n",
        "      des_x = taxi_env.env.locs[state_decode[3]][0]\n",
        "      des_y = taxi_env.env.locs[state_decode[3]][1]\n",
        "      if (state_decode[2] == 4) and (state_decode[0] == des_x) and (state_decode[1] == des_y):\n",
        "        self.T[state, 5] = 0\n",
        "        self.T[state, 5, -1] = 1\n",
        "\n",
        "  def reset(self):\n",
        "    env.reset()"
      ]
    },
    {
      "cell_type": "markdown",
      "metadata": {
        "id": "oc_oI9ZO-zIb"
      },
      "source": [
        "The MDP for Taxi is created as follows:"
      ]
    },
    {
      "cell_type": "code",
      "execution_count": null,
      "metadata": {
        "colab": {
          "base_uri": "https://localhost:8080/"
        },
        "id": "oac3cNkn-yQf",
        "outputId": "2ad5e740-00ff-4837-96d1-28c49e9218d2"
      },
      "outputs": [
        {
          "output_type": "stream",
          "name": "stdout",
          "text": [
            "501\n",
            "6\n",
            "0.99\n",
            "(501, 6)\n",
            "(501, 6, 501)\n"
          ]
        }
      ],
      "source": [
        "obs = taxi_env.reset()\n",
        "taxi_mdp = MDP(taxi_env)\n",
        "#attributes of the MDP:\n",
        "print(taxi_mdp.num_states) #number of states\n",
        "print(taxi_mdp.num_actions) #number of actions\n",
        "print(taxi_mdp.gamma) #gamma\n",
        "print(taxi_mdp.R.shape) #reward matrix (dimension num_states X num_actions)\n",
        "print(taxi_mdp.T.shape) #transition matrix (dimension num_states x num_actions X num_states)"
      ]
    },
    {
      "cell_type": "markdown",
      "metadata": {
        "id": "aJvBKQlLD4iv"
      },
      "source": [
        "**Q1: Implement the Value Iteration algorithm and solve for $Q^\\star$**.\n",
        "\n",
        "Write a method called `value_iter(mdp)` which takes an MDP as argument and returns the optimal Q-value function ($Q^\\star$) as an `np.array` with $501 \\times 6$ elements (the number of states $\\times$ the number of actions).\n",
        "\n",
        "Do this by implementing the Value Iteration algorithm seen in class, a.k.a. by repeatedly applying the Bellman operator $\\mathcal{T}$. Run your code on the taxi environment and output the optimal Q-value function. As a stopping criterion, you can check if $\\lVert Q_n - Q_{n+1}\\rVert_\\infty < 10^{-4}$.\n",
        "\n",
        "Plot a 'learning curve' which consists of the optimal Q-value function for the `(starting state, action_to_plot)` pair at each iteration of training. More specifically, your plot should have the iteration number on the $x$-axis and $Q($starting\\_state, action\\_to\\_plot$)$ on the $y$-axis. In `value_iter` function, you can also return other variables that are useful for your plot (e.g. training values) as long as you return the final `Q_fn`.\n",
        "\n",
        "In the code above, starting_state is defined by `starting_state = taxi_env.reset()`, and `action_to_plot` is set to $1$. In your implementation, you only need to use those variables defined in the MDP class (i.e. `mdp.starting_state`, `mdp.action_to_plot`).\n",
        "\n",
        "You should expect that the Q-value function of any (state, action) pair does not exceed $20$ no matter how you choose $\\gamma$ (we provide `mdp.gamma=0.99`, but you can also try other values)."
      ]
    },
    {
      "cell_type": "code",
      "execution_count": null,
      "metadata": {
        "id": "Cr3I_PSrVVxX",
        "colab": {
          "base_uri": "https://localhost:8080/",
          "height": 606
        },
        "outputId": "88768304-e397-4768-aed0-e07ed908b64e"
      },
      "outputs": [
        {
          "output_type": "stream",
          "name": "stderr",
          "text": [
            "<ipython-input-5-bbaeca5a2f4c>:28: DeprecationWarning: Conversion of an array with ndim > 0 to a scalar is deprecated, and will error in future. Ensure you extract a single element from your array before performing this operation. (Deprecated NumPy 1.25.)\n",
            "  q_s_new = float(mdp.T[s][a].reshape([1, -1]) @ (mdp.R[s][a] + mdp.gamma * np.max(Q_fn_old, axis=1)).reshape([-1, 1]))\n"
          ]
        },
        {
          "output_type": "stream",
          "name": "stdout",
          "text": [
            "[[16.43588    17.612      16.43588    17.612      18.8         8.612     ]\n",
            " [ 7.44059051  8.525849    7.44059051  8.525849    9.6220697  -0.474151  ]\n",
            " [11.84784175 12.97761793 11.84784175 12.97761793 14.11880599  3.97761793]\n",
            " ...\n",
            " [ 9.6220697  10.72936333  9.6220697  10.72936333  0.6220697   0.6220697 ]\n",
            " [17.612      16.43588    17.612      18.8         8.612       8.612     ]\n",
            " [ 0.          0.          0.          0.          0.          0.        ]]\n"
          ]
        },
        {
          "output_type": "display_data",
          "data": {
            "text/plain": [
              "<Figure size 640x480 with 1 Axes>"
            ],
            "image/png": "[encoded data removed]"
          },
          "metadata": {}
        }
      ],
      "source": [
        "def value_iter(mdp):\n",
        "  Q_fn = np.zeros([mdp.num_states, mdp.num_actions])\n",
        "  #YOUR CODE HERE....\n",
        "\n",
        "  ## record learning plot\n",
        "  Q_fn_plot = []\n",
        "  Q_fn_plot.append(0)\n",
        "\n",
        "  ## stopping criterion for outer loop\n",
        "  stop_crit = 1\n",
        "\n",
        "  while stop_crit > 0.0001:\n",
        "\n",
        "    ## make a copy of Q_fn\n",
        "    Q_fn_old = Q_fn[:, :].copy()\n",
        "\n",
        "    ## reset stopping criterion\n",
        "    stop_crit = 0\n",
        "\n",
        "    ## loop for each state and action\n",
        "    for s in range(mdp.num_states):\n",
        "      for a in range(mdp.num_actions):\n",
        "\n",
        "        ## copy state value\n",
        "        q_s_old = Q_fn_old[s][a]\n",
        "\n",
        "        ## compute q_s_new\n",
        "        q_s_new = float(mdp.T[s][a].reshape([1, -1]) @ (mdp.R[s][a] + mdp.gamma * np.max(Q_fn_old, axis=1)).reshape([-1, 1]))\n",
        "\n",
        "        ## update Q_fn\n",
        "        Q_fn[s][a] = q_s_new\n",
        "\n",
        "        ## compute difference of value\n",
        "        stop_crit_s = np.absolute(q_s_new - q_s_old)\n",
        "        if stop_crit_s > stop_crit:\n",
        "          stop_crit = stop_crit_s\n",
        "\n",
        "        ## record for learning plot\n",
        "        if s == mdp.starting_state and a == mdp.action_to_plot:\n",
        "          Q_fn_plot.append(Q_fn[s][a])\n",
        "\n",
        "  return Q_fn, Q_fn_plot\n",
        "Q_fn_VI, y = value_iter(taxi_mdp)\n",
        "print(Q_fn_VI)\n",
        "\n",
        "#might be useful for plotting\n",
        "import matplotlib.pyplot as plt\n",
        "\n",
        "x = []\n",
        "for i in range(len(y)):\n",
        "  x.append(i)\n",
        "\n",
        "plt.figure()\n",
        "plt.plot(x, y, linewidth=2, color='r', marker='o', markerfacecolor='blue', markersize=7)\n",
        "plt.show()"
      ]
    },
    {
      "cell_type": "markdown",
      "metadata": {
        "id": "9lRBfGdbaeDE"
      },
      "source": [
        "**Q2: Implement the Policy Evaluation algorithm and solve for the Q-value function $Q^\\pi$ of a given policy $\\pi$.**\n",
        "\n",
        "Write a method called `policy_eval(mdp, policy)` which takes an MDP and a policy and then outputs the Q-value function $Q^\\pi$ (for the input policy in the input MDP) as an `np.array` with $501 \\times 6$ elements.\n",
        "\n",
        "Do this by implementing the Policy Evaluation algorithm seen in class, a.k.a. by repeatedly applying the Bellman operator $\\mathcal{T}^\\pi$. You should not assume the policy is deterministic. The format of the policy $\\pi(a|s)$ is a `(num_states) x (num_actions)` array (i.e. $501 \\times 6$). Every row of the policy matrix should be a probability distribution over actions. Run your code on the taxi environment with the policy which acts uniformly at random at every state.\n",
        "\n",
        "Plot a 'learning curve' which consists of the Q-value function for the `(starting_state, action_to_plot)` pair, i.e. $Q$(starting\\_state, action\\_to\\_plot$)$, at each iteration of training. In `policy_eval` function, you can also return other variables that are helpful for your plot (e.g. training values) as long as you return the final `Q_fn`."
      ]
    },
    {
      "cell_type": "code",
      "execution_count": null,
      "metadata": {
        "id": "8f9alltJWwo1",
        "colab": {
          "base_uri": "https://localhost:8080/",
          "height": 745
        },
        "outputId": "4653f727-df8e-43ad-a299-9647d74845b6"
      },
      "outputs": [
        {
          "output_type": "stream",
          "name": "stderr",
          "text": [
            "<ipython-input-6-85cc0ca83af3>:35: DeprecationWarning: Conversion of an array with ndim > 0 to a scalar is deprecated, and will error in future. Ensure you extract a single element from your array before performing this operation. (Deprecated NumPy 1.25.)\n",
            "  q_s_new += float(T_new[s][a].reshape([1, -1]) @ (mdp.R[s][a] + mdp.gamma * Q_fn_old.reshape([-1, 1])))\n"
          ]
        },
        {
          "output_type": "stream",
          "name": "stdout",
          "text": [
            "\n",
            "\n",
            "[[-268.59078738 -216.67765512 -253.38119877 -216.67765512 -126.13395661\n",
            "  -225.67765512]\n",
            " [-369.69974155 -358.69294953 -366.47504202 -358.69294953 -346.58690583\n",
            "  -367.69294953]\n",
            " [-358.1913964  -342.52895718 -353.60265984 -342.52895718 -321.49578378\n",
            "  -351.52895718]\n",
            " ...\n",
            " [-363.01279975 -362.09776919 -363.01279975 -361.87303472 -372.01279975\n",
            "  -372.01279975]\n",
            " [-183.28329439 -225.49720171 -183.28329439 -128.11851896 -192.28329439\n",
            "  -192.28329439]\n",
            " [   0.            0.            0.            0.            0.\n",
            "     0.        ]]\n"
          ]
        },
        {
          "output_type": "display_data",
          "data": {
            "text/plain": [
              "<Figure size 640x480 with 1 Axes>"
            ],
            "image/png": "[encoded data removed]"
          },
          "metadata": {}
        }
      ],
      "source": [
        "def policy_eval(mdp, policy):\n",
        "  Q_fn = np.zeros([mdp.num_states, mdp.num_actions])\n",
        "  # YOUR CODE HERE\n",
        "\n",
        "  ## with policy fixed\n",
        "  Q_fn_s = np.zeros(mdp.num_states)\n",
        "\n",
        "  ## record learning plot\n",
        "  Q_fn_plot = []\n",
        "  Q_fn_plot.append(0)\n",
        "\n",
        "  ## stopping criterion for outer loop\n",
        "  stop_crit = 1\n",
        "\n",
        "  while stop_crit > 0.001:\n",
        "\n",
        "    ## make a copy of Q_fn_s\n",
        "    Q_fn_old = Q_fn_s[:].copy()\n",
        "\n",
        "    ## reset stopping criterion\n",
        "    stop_crit = 0\n",
        "\n",
        "    # new transition given policy\n",
        "    T_new = policy.reshape([mdp.num_states, mdp.num_actions, 1]) * mdp.T\n",
        "\n",
        "    ## loop for each state, action given by policy\n",
        "    for s in range(mdp.num_states):\n",
        "\n",
        "      ## copy state value\n",
        "      q_s_old = Q_fn_old[s]\n",
        "      q_s_new = 0\n",
        "\n",
        "      ## compute expectation value of all actions\n",
        "      for a in range(mdp.num_actions):\n",
        "        q_s_new += float(T_new[s][a].reshape([1, -1]) @ (mdp.R[s][a] + mdp.gamma * Q_fn_old.reshape([-1, 1])))\n",
        "\n",
        "      ## update Q_fn_s\n",
        "      Q_fn_s[s] = q_s_new\n",
        "      # print(q_s_new)\n",
        "\n",
        "      ## compute difference of value\n",
        "      stop_crit_s = np.absolute(q_s_new - q_s_old)\n",
        "      if stop_crit_s > stop_crit:\n",
        "        stop_crit = stop_crit_s\n",
        "\n",
        "      ## record for learning plot\n",
        "      if s == mdp.starting_state:\n",
        "        q_s_toplot = float(mdp.T[s][a].reshape([1, -1]) @ (mdp.R[s][a] + mdp.gamma * Q_fn_s).reshape([-1, 1]))\n",
        "        Q_fn_plot.append(q_s_toplot)\n",
        "\n",
        "  ## add first action turn to Q-value function\n",
        "  for s in range(mdp.num_states):\n",
        "    for a in range(mdp.num_actions):\n",
        "      Q_fn[s][a] = float(mdp.T[s][a].reshape([1, -1]) @ (mdp.R[s][a] + mdp.gamma * Q_fn_s).reshape([-1, 1]))\n",
        "  print(\"\\n\")\n",
        "\n",
        "  return Q_fn, Q_fn_plot\n",
        "\n",
        "#run your code on the uniform policy\n",
        "policy_unif = 1./taxi_mdp.num_actions * np.ones([taxi_mdp.num_states,taxi_mdp.num_actions])\n",
        "\n",
        "Q_fn_eval, y = policy_eval(taxi_mdp, policy_unif)\n",
        "print(Q_fn_eval)\n",
        "\n",
        "#might be useful for plotting\n",
        "import matplotlib.pyplot as plt\n",
        "\n",
        "x = []\n",
        "for i in range(len(y)):\n",
        "  x.append(i)\n",
        "\n",
        "plt.figure()\n",
        "plt.plot(x, y, linewidth=2, color='r', marker='o', markerfacecolor='blue', markersize=7)\n",
        "plt.show()"
      ]
    },
    {
      "cell_type": "markdown",
      "metadata": {
        "id": "clgdsvakk12k"
      },
      "source": [
        "**Q3: Implement Policy Iteration using your solution from Q2 as a sub-routine, and solve for the optimal policy $\\pi^\\star$**\n",
        "\n",
        "Write a method called `policy_iteration(mdp, policy)` which takes an MDP and an *initial* policy, and outputs the optimal policy $\\pi^\\star$ via successive rounds of policy improvement. The method should return the policy obtained, as a $501 \\times 6$ `np.array`.\n",
        "\n",
        "Run your code on the taxi environment with the policy which acts uniformly at random at every state as a starting policy.\n",
        "\n",
        "Plot a 'learning curve' which consists of the state-value function for the starting state (i.e. `mdp.starting_state`) for each policy obtained. You can check if/that the optimal value obtained from policy iteration is the same (or close to) the value function obtained from value iteration. You can also return other variables that is useful for your plot (e.g. training values) as long as you return the final policy.\n",
        "\n",
        "You should expect the results are exactly or almost the same in policy iteration and value iteration. Notice that we get Q-value function in `value_iter` function, and obtain state-value function in `policy_iter` function. If you want to compare the results, you need to have additional step for the conversion."
      ]
    },
    {
      "cell_type": "code",
      "execution_count": null,
      "metadata": {
        "id": "dSzaFOu5vAzR",
        "colab": {
          "base_uri": "https://localhost:8080/",
          "height": 710
        },
        "outputId": "18bd5b0d-a5d9-4476-986d-0a2c39ef1667"
      },
      "outputs": [
        {
          "output_type": "stream",
          "name": "stderr",
          "text": [
            "<ipython-input-6-85cc0ca83af3>:35: DeprecationWarning: Conversion of an array with ndim > 0 to a scalar is deprecated, and will error in future. Ensure you extract a single element from your array before performing this operation. (Deprecated NumPy 1.25.)\n",
            "  q_s_new += float(T_new[s][a].reshape([1, -1]) @ (mdp.R[s][a] + mdp.gamma * Q_fn_old.reshape([-1, 1])))\n"
          ]
        },
        {
          "output_type": "stream",
          "name": "stdout",
          "text": [
            "\n",
            "\n",
            "\n",
            "\n",
            "\n",
            "\n",
            "[[0.  0.  0.  0.  1.  0. ]\n",
            " [0.  0.  0.  0.  1.  0. ]\n",
            " [0.  0.  0.  0.  1.  0. ]\n",
            " ...\n",
            " [0.  0.5 0.  0.5 0.  0. ]\n",
            " [0.  0.  0.  1.  0.  0. ]\n",
            " [0.  0.  0.  0.  0.  0. ]]\n"
          ]
        },
        {
          "output_type": "display_data",
          "data": {
            "text/plain": [
              "<Figure size 640x480 with 1 Axes>"
            ],
            "image/png": "[encoded data removed]"
          },
          "metadata": {}
        }
      ],
      "source": [
        "def policy_iter(mdp, policy_init):\n",
        "  policy = policy_init\n",
        "  #YOUR CODE HERE\n",
        "  #Use policy_eval as a sub-routine\n",
        "\n",
        "  ## record learning plot\n",
        "  V_fn_plot = []\n",
        "\n",
        "  ## criterion to stop algorithm\n",
        "  pol_stable = False\n",
        "\n",
        "  while not pol_stable:\n",
        "\n",
        "    ## evaluate policy\n",
        "    Q_fn, _ = policy_eval(mdp, policy)\n",
        "\n",
        "    ## copy old policy\n",
        "    pol_old = policy[:,:].copy()\n",
        "\n",
        "    ## pick the action that have highest value\n",
        "    policy = (Q_fn == Q_fn.max(axis=1, keepdims=1)).astype(float)\n",
        "    for i in range(np.shape(policy)[0]):\n",
        "      policy[i][:] = policy[i][:] / np.sum(policy[i])\n",
        "      if i == np.shape(policy)[0] - 1:\n",
        "        policy[i][:] = 0\n",
        "\n",
        "    ## add state value to plot\n",
        "    V_fn_plot.append(float(np.max(Q_fn[mdp.starting_state])))\n",
        "\n",
        "    ## judge stable\n",
        "    pol_stable = (policy == pol_old).all()\n",
        "\n",
        "  return policy, V_fn_plot\n",
        "\n",
        "## test on uniform policy\n",
        "policy_unif = 1./taxi_mdp.num_actions * np.ones([taxi_mdp.num_states,taxi_mdp.num_actions])\n",
        "policy_PI, y = policy_iter(taxi_mdp, policy_unif)\n",
        "print(policy_PI)\n",
        "\n",
        "#might be useful for plotting\n",
        "import matplotlib.pyplot as plt\n",
        "\n",
        "x = []\n",
        "for i in range(len(y)):\n",
        "  x.append(i)\n",
        "\n",
        "plt.figure()\n",
        "plt.plot(x, y, linewidth=2, color='r', marker='o', markerfacecolor='blue', markersize=7)\n",
        "plt.show()"
      ]
    },
    {
      "cell_type": "code",
      "source": [
        "### Compare PI and VI\n",
        "\n",
        "## get policy from VI\n",
        "policy_VI = (Q_fn_VI == Q_fn_VI.max(axis=1, keepdims=1)).astype(float)\n",
        "for i in range(np.shape(policy_VI)[0]):\n",
        "  policy_VI[i][:] = policy_VI[i][:] / np.sum(policy_VI[i])\n",
        "  if i == np.shape(policy_VI)[0] - 1:\n",
        "    policy_VI[i][:] = 0\n",
        "\n",
        "## compare\n",
        "if (policy_PI == policy_VI).all():\n",
        "  print(\"Same solution provided by Policy Iteration and Value Iteration!\")\n",
        "else:\n",
        "  print(\"Different solutions provided by Policy Iteration and Value Iteration!\")\n",
        "\n"
      ],
      "metadata": {
        "colab": {
          "base_uri": "https://localhost:8080/"
        },
        "id": "rTOaILiQzPgE",
        "outputId": "d8b14fe1-e8e0-4051-8baa-37ed2116e31b"
      },
      "execution_count": null,
      "outputs": [
        {
          "output_type": "stream",
          "name": "stdout",
          "text": [
            "Same solution provided by Policy Iteration and Value Iteration!\n"
          ]
        }
      ]
    },
    {
      "cell_type": "markdown",
      "metadata": {
        "id": "ZoYJ55zCaPVA"
      },
      "source": [
        "**Instructions on converting iPython notebook to pdf**\n",
        "\n",
        "Please do not directly print the iPython notebook to pdf because it may have some issue if your code or text are too long."
      ]
    },
    {
      "cell_type": "markdown",
      "metadata": {
        "id": "ONx9vjT8addX"
      },
      "source": [
        "Option 1: if you run the code locally with Jupyter Notebook or Jupyter Lab, there is an option to save to pdf from the menu."
      ]
    },
    {
      "cell_type": "markdown",
      "metadata": {
        "id": "HOlgK0wXaVil"
      },
      "source": [
        "Option 2: if you run the code on Google colab. (You can delete the block below if you run code locally.)"
      ]
    },
    {
      "cell_type": "code",
      "execution_count": null,
      "metadata": {
        "id": "Qb8YPaYIW8k1"
      },
      "outputs": [],
      "source": [
        "%%capture\n",
        "# Here we use a script to generate pdf and save it to google drive.\n",
        "\n",
        "# After executing this cell, you will be asked to link to your GoogleDrive account.\n",
        "# Then, the pdf will be generated and saved to your GoogleDrive account and you need to go there to download;\n",
        "\n",
        "from google.colab import drive\n",
        "drive.mount('/content/drive')\n",
        "# install tex; first run may take several minutes\n",
        "! apt-get install texlive-xetex\n",
        "# file path and save location below are default; please change if they do not match yours\n",
        "! jupyter nbconvert --output-dir='/content/drive/MyDrive/' '/content/drive/MyDrive/Colab Notebooks/CS443RL_Assignment2.ipynb' --to pdf"
      ]
    },
    {
      "cell_type": "markdown",
      "metadata": {
        "id": "ZkgV3wFWcI2y"
      },
      "source": [
        "Also feel free to use other methods as long as the converted file visually looks good."
      ]
    }
  ],
  "metadata": {
    "colab": {
      "provenance": []
    },
    "kernelspec": {
      "display_name": "Python 3",
      "language": "python",
      "name": "python3"
    },
    "language_info": {
      "codemirror_mode": {
        "name": "ipython",
        "version": 3
      },
      "file_extension": ".py",
      "mimetype": "text/x-python",
      "name": "python",
      "nbconvert_exporter": "python",
      "pygments_lexer": "ipython3",
      "version": "3.7.9"
    }
  },
  "nbformat": 4,
  "nbformat_minor": 0
}
